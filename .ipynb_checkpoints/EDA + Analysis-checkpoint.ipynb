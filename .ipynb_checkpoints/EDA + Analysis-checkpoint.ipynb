{
 "cells": [
  {
   "cell_type": "markdown",
   "metadata": {},
   "source": [
    "# Orders dataset\n",
    "\n",
    "## Loading the data"
   ]
  },
  {
   "cell_type": "code",
   "execution_count": 3,
   "metadata": {},
   "outputs": [
    {
     "ename": "FileNotFoundError",
     "evalue": "[Errno 2] File b'./Project Informa/orders/FirstMillionLines.csv' does not exist: b'./Project Informa/orders/FirstMillionLines.csv'",
     "output_type": "error",
     "traceback": [
      "\u001b[1;31m---------------------------------------------------------------------------\u001b[0m",
      "\u001b[1;31mFileNotFoundError\u001b[0m                         Traceback (most recent call last)",
      "\u001b[1;32m<ipython-input-3-1ce7dbc02b29>\u001b[0m in \u001b[0;36m<module>\u001b[1;34m\u001b[0m\n\u001b[0;32m      2\u001b[0m \u001b[1;33m\u001b[0m\u001b[0m\n\u001b[0;32m      3\u001b[0m \u001b[1;31m# Import data\u001b[0m\u001b[1;33m\u001b[0m\u001b[1;33m\u001b[0m\u001b[1;33m\u001b[0m\u001b[0m\n\u001b[1;32m----> 4\u001b[1;33m \u001b[0mdf1\u001b[0m \u001b[1;33m=\u001b[0m \u001b[0mpd\u001b[0m\u001b[1;33m.\u001b[0m\u001b[0mread_csv\u001b[0m\u001b[1;33m(\u001b[0m\u001b[1;34m\"./Project Informa/orders/FirstMillionLines.csv\"\u001b[0m\u001b[1;33m)\u001b[0m\u001b[1;33m\u001b[0m\u001b[1;33m\u001b[0m\u001b[0m\n\u001b[0m\u001b[0;32m      5\u001b[0m \u001b[0mdf2\u001b[0m \u001b[1;33m=\u001b[0m \u001b[0mpd\u001b[0m\u001b[1;33m.\u001b[0m\u001b[0mread_csv\u001b[0m\u001b[1;33m(\u001b[0m\u001b[1;34m\"./Project Informa/orders/SecondMillionLines.csv\"\u001b[0m\u001b[1;33m)\u001b[0m\u001b[1;33m\u001b[0m\u001b[1;33m\u001b[0m\u001b[0m\n\u001b[0;32m      6\u001b[0m \u001b[0mdf3\u001b[0m \u001b[1;33m=\u001b[0m \u001b[0mpd\u001b[0m\u001b[1;33m.\u001b[0m\u001b[0mread_csv\u001b[0m\u001b[1;33m(\u001b[0m\u001b[1;34m\"./Project Informa/orders/ThirdMillionLines.csv\"\u001b[0m\u001b[1;33m)\u001b[0m\u001b[1;33m\u001b[0m\u001b[1;33m\u001b[0m\u001b[0m\n",
      "\u001b[1;32m~\\Anaconda3\\lib\\site-packages\\pandas\\io\\parsers.py\u001b[0m in \u001b[0;36mparser_f\u001b[1;34m(filepath_or_buffer, sep, delimiter, header, names, index_col, usecols, squeeze, prefix, mangle_dupe_cols, dtype, engine, converters, true_values, false_values, skipinitialspace, skiprows, skipfooter, nrows, na_values, keep_default_na, na_filter, verbose, skip_blank_lines, parse_dates, infer_datetime_format, keep_date_col, date_parser, dayfirst, iterator, chunksize, compression, thousands, decimal, lineterminator, quotechar, quoting, doublequote, escapechar, comment, encoding, dialect, tupleize_cols, error_bad_lines, warn_bad_lines, delim_whitespace, low_memory, memory_map, float_precision)\u001b[0m\n\u001b[0;32m    700\u001b[0m                     skip_blank_lines=skip_blank_lines)\n\u001b[0;32m    701\u001b[0m \u001b[1;33m\u001b[0m\u001b[0m\n\u001b[1;32m--> 702\u001b[1;33m         \u001b[1;32mreturn\u001b[0m \u001b[0m_read\u001b[0m\u001b[1;33m(\u001b[0m\u001b[0mfilepath_or_buffer\u001b[0m\u001b[1;33m,\u001b[0m \u001b[0mkwds\u001b[0m\u001b[1;33m)\u001b[0m\u001b[1;33m\u001b[0m\u001b[1;33m\u001b[0m\u001b[0m\n\u001b[0m\u001b[0;32m    703\u001b[0m \u001b[1;33m\u001b[0m\u001b[0m\n\u001b[0;32m    704\u001b[0m     \u001b[0mparser_f\u001b[0m\u001b[1;33m.\u001b[0m\u001b[0m__name__\u001b[0m \u001b[1;33m=\u001b[0m \u001b[0mname\u001b[0m\u001b[1;33m\u001b[0m\u001b[1;33m\u001b[0m\u001b[0m\n",
      "\u001b[1;32m~\\Anaconda3\\lib\\site-packages\\pandas\\io\\parsers.py\u001b[0m in \u001b[0;36m_read\u001b[1;34m(filepath_or_buffer, kwds)\u001b[0m\n\u001b[0;32m    427\u001b[0m \u001b[1;33m\u001b[0m\u001b[0m\n\u001b[0;32m    428\u001b[0m     \u001b[1;31m# Create the parser.\u001b[0m\u001b[1;33m\u001b[0m\u001b[1;33m\u001b[0m\u001b[1;33m\u001b[0m\u001b[0m\n\u001b[1;32m--> 429\u001b[1;33m     \u001b[0mparser\u001b[0m \u001b[1;33m=\u001b[0m \u001b[0mTextFileReader\u001b[0m\u001b[1;33m(\u001b[0m\u001b[0mfilepath_or_buffer\u001b[0m\u001b[1;33m,\u001b[0m \u001b[1;33m**\u001b[0m\u001b[0mkwds\u001b[0m\u001b[1;33m)\u001b[0m\u001b[1;33m\u001b[0m\u001b[1;33m\u001b[0m\u001b[0m\n\u001b[0m\u001b[0;32m    430\u001b[0m \u001b[1;33m\u001b[0m\u001b[0m\n\u001b[0;32m    431\u001b[0m     \u001b[1;32mif\u001b[0m \u001b[0mchunksize\u001b[0m \u001b[1;32mor\u001b[0m \u001b[0miterator\u001b[0m\u001b[1;33m:\u001b[0m\u001b[1;33m\u001b[0m\u001b[1;33m\u001b[0m\u001b[0m\n",
      "\u001b[1;32m~\\Anaconda3\\lib\\site-packages\\pandas\\io\\parsers.py\u001b[0m in \u001b[0;36m__init__\u001b[1;34m(self, f, engine, **kwds)\u001b[0m\n\u001b[0;32m    893\u001b[0m             \u001b[0mself\u001b[0m\u001b[1;33m.\u001b[0m\u001b[0moptions\u001b[0m\u001b[1;33m[\u001b[0m\u001b[1;34m'has_index_names'\u001b[0m\u001b[1;33m]\u001b[0m \u001b[1;33m=\u001b[0m \u001b[0mkwds\u001b[0m\u001b[1;33m[\u001b[0m\u001b[1;34m'has_index_names'\u001b[0m\u001b[1;33m]\u001b[0m\u001b[1;33m\u001b[0m\u001b[1;33m\u001b[0m\u001b[0m\n\u001b[0;32m    894\u001b[0m \u001b[1;33m\u001b[0m\u001b[0m\n\u001b[1;32m--> 895\u001b[1;33m         \u001b[0mself\u001b[0m\u001b[1;33m.\u001b[0m\u001b[0m_make_engine\u001b[0m\u001b[1;33m(\u001b[0m\u001b[0mself\u001b[0m\u001b[1;33m.\u001b[0m\u001b[0mengine\u001b[0m\u001b[1;33m)\u001b[0m\u001b[1;33m\u001b[0m\u001b[1;33m\u001b[0m\u001b[0m\n\u001b[0m\u001b[0;32m    896\u001b[0m \u001b[1;33m\u001b[0m\u001b[0m\n\u001b[0;32m    897\u001b[0m     \u001b[1;32mdef\u001b[0m \u001b[0mclose\u001b[0m\u001b[1;33m(\u001b[0m\u001b[0mself\u001b[0m\u001b[1;33m)\u001b[0m\u001b[1;33m:\u001b[0m\u001b[1;33m\u001b[0m\u001b[1;33m\u001b[0m\u001b[0m\n",
      "\u001b[1;32m~\\Anaconda3\\lib\\site-packages\\pandas\\io\\parsers.py\u001b[0m in \u001b[0;36m_make_engine\u001b[1;34m(self, engine)\u001b[0m\n\u001b[0;32m   1120\u001b[0m     \u001b[1;32mdef\u001b[0m \u001b[0m_make_engine\u001b[0m\u001b[1;33m(\u001b[0m\u001b[0mself\u001b[0m\u001b[1;33m,\u001b[0m \u001b[0mengine\u001b[0m\u001b[1;33m=\u001b[0m\u001b[1;34m'c'\u001b[0m\u001b[1;33m)\u001b[0m\u001b[1;33m:\u001b[0m\u001b[1;33m\u001b[0m\u001b[1;33m\u001b[0m\u001b[0m\n\u001b[0;32m   1121\u001b[0m         \u001b[1;32mif\u001b[0m \u001b[0mengine\u001b[0m \u001b[1;33m==\u001b[0m \u001b[1;34m'c'\u001b[0m\u001b[1;33m:\u001b[0m\u001b[1;33m\u001b[0m\u001b[1;33m\u001b[0m\u001b[0m\n\u001b[1;32m-> 1122\u001b[1;33m             \u001b[0mself\u001b[0m\u001b[1;33m.\u001b[0m\u001b[0m_engine\u001b[0m \u001b[1;33m=\u001b[0m \u001b[0mCParserWrapper\u001b[0m\u001b[1;33m(\u001b[0m\u001b[0mself\u001b[0m\u001b[1;33m.\u001b[0m\u001b[0mf\u001b[0m\u001b[1;33m,\u001b[0m \u001b[1;33m**\u001b[0m\u001b[0mself\u001b[0m\u001b[1;33m.\u001b[0m\u001b[0moptions\u001b[0m\u001b[1;33m)\u001b[0m\u001b[1;33m\u001b[0m\u001b[1;33m\u001b[0m\u001b[0m\n\u001b[0m\u001b[0;32m   1123\u001b[0m         \u001b[1;32melse\u001b[0m\u001b[1;33m:\u001b[0m\u001b[1;33m\u001b[0m\u001b[1;33m\u001b[0m\u001b[0m\n\u001b[0;32m   1124\u001b[0m             \u001b[1;32mif\u001b[0m \u001b[0mengine\u001b[0m \u001b[1;33m==\u001b[0m \u001b[1;34m'python'\u001b[0m\u001b[1;33m:\u001b[0m\u001b[1;33m\u001b[0m\u001b[1;33m\u001b[0m\u001b[0m\n",
      "\u001b[1;32m~\\Anaconda3\\lib\\site-packages\\pandas\\io\\parsers.py\u001b[0m in \u001b[0;36m__init__\u001b[1;34m(self, src, **kwds)\u001b[0m\n\u001b[0;32m   1851\u001b[0m         \u001b[0mkwds\u001b[0m\u001b[1;33m[\u001b[0m\u001b[1;34m'usecols'\u001b[0m\u001b[1;33m]\u001b[0m \u001b[1;33m=\u001b[0m \u001b[0mself\u001b[0m\u001b[1;33m.\u001b[0m\u001b[0musecols\u001b[0m\u001b[1;33m\u001b[0m\u001b[1;33m\u001b[0m\u001b[0m\n\u001b[0;32m   1852\u001b[0m \u001b[1;33m\u001b[0m\u001b[0m\n\u001b[1;32m-> 1853\u001b[1;33m         \u001b[0mself\u001b[0m\u001b[1;33m.\u001b[0m\u001b[0m_reader\u001b[0m \u001b[1;33m=\u001b[0m \u001b[0mparsers\u001b[0m\u001b[1;33m.\u001b[0m\u001b[0mTextReader\u001b[0m\u001b[1;33m(\u001b[0m\u001b[0msrc\u001b[0m\u001b[1;33m,\u001b[0m \u001b[1;33m**\u001b[0m\u001b[0mkwds\u001b[0m\u001b[1;33m)\u001b[0m\u001b[1;33m\u001b[0m\u001b[1;33m\u001b[0m\u001b[0m\n\u001b[0m\u001b[0;32m   1854\u001b[0m         \u001b[0mself\u001b[0m\u001b[1;33m.\u001b[0m\u001b[0munnamed_cols\u001b[0m \u001b[1;33m=\u001b[0m \u001b[0mself\u001b[0m\u001b[1;33m.\u001b[0m\u001b[0m_reader\u001b[0m\u001b[1;33m.\u001b[0m\u001b[0munnamed_cols\u001b[0m\u001b[1;33m\u001b[0m\u001b[1;33m\u001b[0m\u001b[0m\n\u001b[0;32m   1855\u001b[0m \u001b[1;33m\u001b[0m\u001b[0m\n",
      "\u001b[1;32mpandas/_libs/parsers.pyx\u001b[0m in \u001b[0;36mpandas._libs.parsers.TextReader.__cinit__\u001b[1;34m()\u001b[0m\n",
      "\u001b[1;32mpandas/_libs/parsers.pyx\u001b[0m in \u001b[0;36mpandas._libs.parsers.TextReader._setup_parser_source\u001b[1;34m()\u001b[0m\n",
      "\u001b[1;31mFileNotFoundError\u001b[0m: [Errno 2] File b'./Project Informa/orders/FirstMillionLines.csv' does not exist: b'./Project Informa/orders/FirstMillionLines.csv'"
     ]
    }
   ],
   "source": [
    "import pandas as pd\n",
    "\n",
    "# Import data\n",
    "df1 = pd.read_csv(\"./Project Informa/orders/FirstMillionLines.csv\")\n",
    "df2 = pd.read_csv(\"./Project Informa/orders/SecondMillionLines.csv\")\n",
    "df3 = pd.read_csv(\"./Project Informa/orders/ThirdMillionLines.csv\")"
   ]
  },
  {
   "cell_type": "code",
   "execution_count": null,
   "metadata": {
    "scrolled": true
   },
   "outputs": [],
   "source": [
    "# Check for incosistent dimensions\n",
    "print(\"Shape:\", df1.shape)\n",
    "print(\"Shape:\", df2.shape)\n",
    "print(\"Shape:\", df3.shape)"
   ]
  },
  {
   "cell_type": "markdown",
   "metadata": {},
   "source": [
    "Amount of columns is consistent, amount of rows isn't. However, that's fine."
   ]
  },
  {
   "cell_type": "code",
   "execution_count": null,
   "metadata": {},
   "outputs": [],
   "source": [
    "# Join dataframes\n",
    "orders = df1.merge(df2, how='outer')\n",
    "orders = orders.merge(df3, how='outer')"
   ]
  },
  {
   "cell_type": "code",
   "execution_count": null,
   "metadata": {
    "scrolled": false
   },
   "outputs": [],
   "source": [
    "# Show orders info\n",
    "print(\"Shape:\", orders.info())\n",
    "\n",
    "# Show orders head\n",
    "orders.head()"
   ]
  },
  {
   "cell_type": "markdown",
   "metadata": {},
   "source": [
    "## Cleaning the Data\n",
    "\n",
    "Checking for missing data"
   ]
  },
  {
   "cell_type": "code",
   "execution_count": null,
   "metadata": {
    "scrolled": false
   },
   "outputs": [],
   "source": [
    "# Show missing data\n",
    "print(\"Missing data: \")\n",
    "print(orders.isnull().sum(), \"\\n\")"
   ]
  },
  {
   "cell_type": "markdown",
   "metadata": {},
   "source": [
    "Not a lot of data is missing, only 155 product numbers. Reason of return is so high because those weren't returns. "
   ]
  },
  {
   "cell_type": "markdown",
   "metadata": {},
   "source": [
    "Make smaller set for quick exploration"
   ]
  },
  {
   "cell_type": "code",
   "execution_count": null,
   "metadata": {},
   "outputs": [],
   "source": [
    "# Truncate data to explore faster\n",
    "orders_small = orders.truncate(before=200001, after=300000)\n",
    "orders_small.shape"
   ]
  },
  {
   "cell_type": "markdown",
   "metadata": {},
   "source": [
    "## Look at data types and change if necessary"
   ]
  },
  {
   "cell_type": "code",
   "execution_count": null,
   "metadata": {
    "scrolled": true
   },
   "outputs": [],
   "source": [
    "# Some column types should be changed to datetime\n",
    "orders_small['DoB'] = orders_small['DoB'].astype('datetime64[ns]')\n",
    "orders_small['Order date'] = orders_small['Order date'].astype('datetime64[ns]')\n",
    "orders_small.info()"
   ]
  },
  {
   "cell_type": "code",
   "execution_count": null,
   "metadata": {},
   "outputs": [],
   "source": [
    "orders_small['Gender'].value_counts(dropna=False)"
   ]
  },
  {
   "cell_type": "code",
   "execution_count": null,
   "metadata": {},
   "outputs": [],
   "source": [
    "# Gender should be an int: 0 for male 1 for female\n",
    "orders_small['Gender int'] = orders_small['Gender']\n",
    "orders_small['Gender int'] = orders_small['Gender int'].replace('Man', '0')\n",
    "orders_small['Gender int'] = orders_small['Gender int'].replace('Woman', '1')\n",
    "orders_small['Gender int'] = orders_small['Gender int'].replace('\\\\ ', '-1')\n",
    "orders_small['Gender int'].value_counts(dropna=False)"
   ]
  },
  {
   "cell_type": "code",
   "execution_count": null,
   "metadata": {
    "scrolled": false
   },
   "outputs": [],
   "source": [
    "# Change gender column type\n",
    "orders_small['Gender int'] = orders_small['Gender int'].astype('int64')\n",
    "orders_small.info()"
   ]
  },
  {
   "cell_type": "markdown",
   "metadata": {},
   "source": [
    "## Map category to numbers"
   ]
  },
  {
   "cell_type": "code",
   "execution_count": null,
   "metadata": {
    "scrolled": false
   },
   "outputs": [],
   "source": [
    "# get all categories\n",
    "cat = orders_small['Category'].unique()\n",
    "# create new column cat. numbers\n",
    "orders_small['Cat. number'] = orders_small['Category']"
   ]
  },
  {
   "cell_type": "code",
   "execution_count": null,
   "metadata": {},
   "outputs": [],
   "source": [
    "# replace all values with numbers\n",
    "i = 0\n",
    "\n",
    "for c in cat:\n",
    "    orders_small['Cat. number'] = orders_small['Cat. number'].replace(c, str(i))\n",
    "    i = i + 1\n",
    "    # print(c + \" is equal to \" + str(i))"
   ]
  },
  {
   "cell_type": "markdown",
   "metadata": {},
   "source": [
    "### Do the same for sub category"
   ]
  },
  {
   "cell_type": "code",
   "execution_count": null,
   "metadata": {
    "scrolled": true
   },
   "outputs": [],
   "source": [
    "subC = orders_small['Sub category'].unique()\n",
    "orders_small['Sub cat. number'] = orders_small['Sub category']"
   ]
  },
  {
   "cell_type": "code",
   "execution_count": null,
   "metadata": {},
   "outputs": [],
   "source": [
    "i = 0\n",
    "\n",
    "for c in subC:\n",
    "    orders_small['Sub cat. number'] = orders_small['Sub cat. number'].replace(c, str(i))\n",
    "    i = i + 1\n",
    "    # print(c + \" is equal to \" + str(i))"
   ]
  },
  {
   "cell_type": "markdown",
   "metadata": {},
   "source": [
    "### Do the same again for place of residence"
   ]
  },
  {
   "cell_type": "code",
   "execution_count": null,
   "metadata": {
    "scrolled": true
   },
   "outputs": [],
   "source": [
    "por = orders_small['PoR'].unique()\n",
    "orders_small['PoR number'] = orders_small['PoR']"
   ]
  },
  {
   "cell_type": "code",
   "execution_count": null,
   "metadata": {},
   "outputs": [],
   "source": [
    "i = 0\n",
    "\n",
    "for c in por:\n",
    "    orders_small['PoR number'] = orders_small['PoR number'].replace(c, str(i))\n",
    "    i = i + 1\n",
    "    # print(c + \" is equal to \" + str(i))"
   ]
  },
  {
   "cell_type": "markdown",
   "metadata": {},
   "source": [
    "### And month of the year"
   ]
  },
  {
   "cell_type": "code",
   "execution_count": null,
   "metadata": {},
   "outputs": [],
   "source": [
    "orders_small['Month'] = pd.DatetimeIndex(orders_small['Order date']).month"
   ]
  },
  {
   "cell_type": "markdown",
   "metadata": {},
   "source": [
    "## And birthyear..."
   ]
  },
  {
   "cell_type": "code",
   "execution_count": null,
   "metadata": {},
   "outputs": [],
   "source": [
    "orders_small['Birthyear'] = pd.DatetimeIndex(orders_small['DoB']).year"
   ]
  },
  {
   "cell_type": "code",
   "execution_count": null,
   "metadata": {
    "scrolled": false
   },
   "outputs": [],
   "source": [
    "# convert to int64 to show on heatmap\n",
    "orders_small['Cat. number'] = orders_small['Cat. number'].astype('int64')\n",
    "orders_small['Sub cat. number'] = orders_small['Sub cat. number'].astype('int64')\n",
    "orders_small['PoR number'] = orders_small['PoR number'].astype('int64')\n",
    "orders_small['Month'] = orders_small['Month'].astype('int64')\n",
    "orders_small['Birthyear'] = orders_small['Birthyear'].astype('int64')\n",
    "orders_small.info()"
   ]
  },
  {
   "cell_type": "code",
   "execution_count": null,
   "metadata": {
    "scrolled": true
   },
   "outputs": [],
   "source": [
    "# check if it worked\n",
    "orders_small.head()"
   ]
  },
  {
   "cell_type": "markdown",
   "metadata": {},
   "source": [
    "Now that all columns are usable types and the data is cleaned, we can start exploring\n",
    "\n",
    "## Exploratory Data Analysis"
   ]
  },
  {
   "cell_type": "code",
   "execution_count": null,
   "metadata": {
    "scrolled": false
   },
   "outputs": [],
   "source": [
    "import matplotlib.pyplot as plt\n",
    "\n",
    "fig, ax = plt.subplots()\n",
    "\n",
    "x = orders_small['Expected delivery time']\n",
    "y = orders_small['Actual delivery time']\n",
    "\n",
    "color = orders_small['Rating']\n",
    "scale = orders_small['Rating'] * 50;\n",
    "ax.scatter(x, y, c=color, s=scale, alpha=0.3, edgecolors='none')\n",
    "# ax.scatter(x2, y2, c='pink', s=scale, alpha=0.7, edgecolors='none')\n",
    "ax.grid(True)\n",
    "fig.set_size_inches(10, 6)\n",
    "\n",
    "# Set labels\n",
    "plt.title('Ratings and Delivery Time')\n",
    "ax.set_xlabel(r'Expected delivery time', fontsize=12)\n",
    "ax.set_ylabel(r'Actual delivery time', fontsize=12)\n",
    "\n",
    "plt.show()"
   ]
  },
  {
   "cell_type": "markdown",
   "metadata": {},
   "source": [
    "As can be seen by the straight line going from (0,0) to about (48,48), most orders arrive at around the expected delivery time. There seems to be no correlation between late orders and ratings."
   ]
  },
  {
   "cell_type": "code",
   "execution_count": null,
   "metadata": {
    "scrolled": false
   },
   "outputs": [],
   "source": [
    "# Use seaborn to show plots\n",
    "import seaborn as sns; sns.set()"
   ]
  },
  {
   "cell_type": "code",
   "execution_count": null,
   "metadata": {},
   "outputs": [],
   "source": [
    "# selected_feature_names=['Gender', 'Product number', 'Count', 'Price', 'Expected delivery time', 'Actual delivery time', 'Rating']\n",
    "# sns.pairplot(orders_small, vars=selected_feature_names, height=5)"
   ]
  },
  {
   "cell_type": "code",
   "execution_count": null,
   "metadata": {
    "scrolled": false
   },
   "outputs": [],
   "source": [
    "# # Zoom in\n",
    "# sns.pairplot(orders_small, x_vars=['Rating', 'Actual delivery time'], y_vars=['Product number'], height=7)"
   ]
  },
  {
   "cell_type": "markdown",
   "metadata": {},
   "source": [
    "## Predict what products new customers may buy based on their age, gender and possibly place or residence."
   ]
  },
  {
   "cell_type": "code",
   "execution_count": null,
   "metadata": {
    "scrolled": false
   },
   "outputs": [],
   "source": [
    "# selected_feature_names=['Gender', 'Product number', 'Birthyear']\n",
    "# sns.pairplot(orders_small, vars=selected_feature_names, height=5)"
   ]
  },
  {
   "cell_type": "markdown",
   "metadata": {},
   "source": [
    "Focus on age and product number "
   ]
  },
  {
   "cell_type": "code",
   "execution_count": null,
   "metadata": {
    "scrolled": false
   },
   "outputs": [],
   "source": [
    "fig, ax = plt.subplots()\n",
    "\n",
    "x = orders_small['Birthyear']\n",
    "y = orders_small['Product number']\n",
    "\n",
    "# color = orders_small['Age']\n",
    "\n",
    "color = 'blue'\n",
    "scale = 50\n",
    "ax.scatter(x, y, c=color, s=scale, alpha=0.3, edgecolors='none')\n",
    "# ax.scatter(x2, y2, c='pink', s=scale, alpha=0.7, edgecolors='none')\n",
    "ax.grid(True)\n",
    "fig.set_size_inches(10, 10)\n",
    "# ax.set_ylim([5.000000e+12,5.300000e+12])\n",
    "\n",
    "# Set labels\n",
    "# plt.title('Ratings and Delivery Time')\n",
    "ax.set_xlabel(r'Birthyear', fontsize=12)\n",
    "ax.set_ylabel(r'Product nummber', fontsize=12)\n",
    "\n",
    "plt.show()"
   ]
  },
  {
   "cell_type": "code",
   "execution_count": null,
   "metadata": {},
   "outputs": [],
   "source": [
    "orders_small['Birthyear'][orders_small['Category'] == 'Garden furniture'].count()"
   ]
  },
  {
   "cell_type": "code",
   "execution_count": null,
   "metadata": {},
   "outputs": [],
   "source": [
    "fig, ax = plt.subplots()\n",
    "\n",
    "x = orders_small['Birthyear'][orders_small['Gender'] == 0]\n",
    "y = orders_small['Category'][orders_small['Gender'] == 0]\n",
    "\n",
    "x2 = orders_small['Birthyear'][orders_small['Gender'] == 1]\n",
    "y2 = orders_small['Category'][orders_small['Gender'] == 1]\n",
    "\n",
    "scale = 20\n",
    "\n",
    "ax.scatter(x, y, c='blue', s=scale, alpha=0.5, edgecolors='none')\n",
    "ax.scatter(x2, y2, c='pink', s=scale, alpha=0.3, edgecolors='none')\n",
    "ax.grid(True)\n",
    "fig.set_size_inches(10, 10)\n",
    "\n",
    "#set labels\n",
    "plt.title('Birthyear and gender v product number')\n",
    "ax.set_xlabel(r'Birthyear', fontsize=12)\n",
    "ax.set_ylabel(r'Product nummber', fontsize=12)\n",
    "\n",
    "plt.show()"
   ]
  },
  {
   "cell_type": "code",
   "execution_count": null,
   "metadata": {
    "scrolled": false
   },
   "outputs": [],
   "source": [
    "fig, ax = plt.subplots()\n",
    "\n",
    "x = orders_small['Birthyear'][orders_small['Gender'] == 0]\n",
    "y = orders_small['Category'][orders_small['Gender'] == 0]\n",
    "\n",
    "x2 = orders_small['Birthyear'][orders_small['Gender'] == 1]\n",
    "y2 = orders_small['Category'][orders_small['Gender'] == 1]\n",
    "\n",
    "scale = 20\n",
    "\n",
    "ax.scatter(x, y, c='blue', s=scale, alpha=0.5, edgecolors='none')\n",
    "ax.scatter(x2, y2, c='pink', s=scale, alpha=0.3, edgecolors='none')\n",
    "ax.grid(True)\n",
    "fig.set_size_inches(10, 10)\n",
    "# ax.set_xlim(40,60)\n",
    "\n",
    "#set labels\n",
    "plt.title('Birthyear and gender v product number')\n",
    "ax.set_xlabel(r'Birthyear', fontsize=12)\n",
    "ax.set_ylabel(r'Category', fontsize=12)\n",
    "\n",
    "plt.show()"
   ]
  },
  {
   "cell_type": "code",
   "execution_count": null,
   "metadata": {
    "scrolled": false
   },
   "outputs": [],
   "source": [
    "fig, ax = plt.subplots()\n",
    "\n",
    "x = orders_small['Birthyear'][orders_small['Gender'] == 0]\n",
    "y = orders_small['Sub category'][orders_small['Gender'] == 0]\n",
    "\n",
    "x2 = orders_small['Birthyear'][orders_small['Gender'] == 1]\n",
    "y2 = orders_small['Sub category'][orders_small['Gender'] == 1]\n",
    "\n",
    "scale = 20\n",
    "\n",
    "ax.scatter(x, y, c='blue', s=scale, alpha=0.5, edgecolors='none')\n",
    "ax.scatter(x2, y2, c='pink', s=scale, alpha=0.3, edgecolors='none')\n",
    "ax.grid(True)\n",
    "fig.set_size_inches(10, 10)\n",
    "# ax.set_xlim(40,60)\n",
    "\n",
    "#set labels\n",
    "plt.title('Birthyear and gender v product number')\n",
    "ax.set_xlabel(r'Birthyear', fontsize=12)\n",
    "ax.set_ylabel(r'Sub category', fontsize=12)\n",
    "\n",
    "plt.show()"
   ]
  },
  {
   "cell_type": "markdown",
   "metadata": {},
   "source": [
    "## Heatmap"
   ]
  },
  {
   "cell_type": "code",
   "execution_count": null,
   "metadata": {
    "scrolled": false
   },
   "outputs": [],
   "source": [
    "plt.figure(figsize=(20,20))\n",
    "cor = orders_small.corr()\n",
    "sns.heatmap(cor, annot=True, cmap=plt.cm.Reds)"
   ]
  },
  {
   "cell_type": "markdown",
   "metadata": {},
   "source": [
    "# Predictive analysis\n",
    "\n",
    "## Preparation"
   ]
  },
  {
   "cell_type": "code",
   "execution_count": null,
   "metadata": {},
   "outputs": [],
   "source": [
    "from sklearn.model_selection import train_test_split\n",
    "from sklearn.preprocessing import StandardScaler\n",
    "from sklearn import preprocessing\n",
    "import numpy as np\n",
    "from scipy.stats import sem\n",
    "\n",
    "#use all available data\n",
    "orders_x2 = orders_small[['Birthyear', 'Gender']]\n",
    "orders_x = orders_small[['Birthyear', 'Gender', 'Month']]\n",
    "orders_y2 = orders_small['Sub cat. number']\n",
    "orders_y = orders_small['Cat. number']\n",
    "orders_y3 = orders_small['Count']"
   ]
  },
  {
   "cell_type": "code",
   "execution_count": null,
   "metadata": {},
   "outputs": [],
   "source": [
    "# split data\n",
    "x_train, x_test, y_train, y_test = train_test_split(orders_x, orders_y, test_size=0.2)"
   ]
  },
  {
   "cell_type": "code",
   "execution_count": null,
   "metadata": {
    "scrolled": true
   },
   "outputs": [],
   "source": [
    "# create normalised set\n",
    "x_train_n = np.array(x_train)\n",
    "y_train_n = np.array(y_train)\n",
    "preprocessing.normalize(x_train_n)\n",
    "preprocessing.normalize(y_train_n.reshape(-1,1))"
   ]
  },
  {
   "cell_type": "code",
   "execution_count": null,
   "metadata": {},
   "outputs": [],
   "source": [
    "# imports\n",
    "from sklearn.metrics import confusion_matrix\n",
    "from sklearn.metrics import classification_report\n",
    "from sklearn.model_selection import cross_val_score, KFold\n",
    "from sklearn.svm import LinearSVC\n",
    "from sklearn import neighbors as n\n",
    "from sklearn.tree import DecisionTreeClassifier\n",
    "from sklearn.ensemble import RandomForestClassifier\n",
    "from sklearn import linear_model"
   ]
  },
  {
   "cell_type": "markdown",
   "metadata": {},
   "source": [
    "## LinearSVC"
   ]
  },
  {
   "cell_type": "code",
   "execution_count": null,
   "metadata": {},
   "outputs": [],
   "source": [
    "svc = LinearSVC(class_weight='balanced', max_iter=2000, random_state=0)\n",
    "\n",
    "# fit training data\n",
    "svc.fit(x_train_n, y_train_n)\n",
    "\n",
    "# calculate prediction\n",
    "y_pred = svc.predict(x_test)\n",
    "print(\"Accuracy: \", svc.score(x_test, y_test))"
   ]
  },
  {
   "cell_type": "code",
   "execution_count": null,
   "metadata": {},
   "outputs": [],
   "source": [
    "# cross validation\n",
    "\n",
    "def evaluate_cross_val(clf, x, y, k):\n",
    "    kf = KFold(k, shuffle=True, random_state=0)\n",
    "    scores = cross_val_score(clf, x, y, cv=kf)\n",
    "    print(scores)\n",
    "    print((\"Mean score: {0:.3f} (+/-{1:.3f})\").format(np.mean(scores), sem(scores)))\n",
    "    \n",
    "evaluate_cross_val(svc, x_train_n, y_train_n, 5)"
   ]
  },
  {
   "cell_type": "markdown",
   "metadata": {},
   "source": [
    "## Nearest Neighbors"
   ]
  },
  {
   "cell_type": "code",
   "execution_count": null,
   "metadata": {},
   "outputs": [],
   "source": [
    "n_neighbors = 200 # value of 200 produces best results\n",
    "clf = n.KNeighborsClassifier(n_neighbors, weights='uniform')\n",
    "clf.fit(x_train_n, y_train_n)\n",
    "\n",
    "# calculate prediction\n",
    "y_pred = clf.predict(x_test)\n",
    "print(\"Accuracy: \", clf.score(x_test, y_test))"
   ]
  },
  {
   "cell_type": "code",
   "execution_count": null,
   "metadata": {},
   "outputs": [],
   "source": [
    "# cross validation\n",
    "def evaluate_cross_val(clf, x, y, k):\n",
    "    kf = KFold(k, shuffle=True, random_state=0)\n",
    "    scores = cross_val_score(clf, x, y, cv=kf)\n",
    "    print(scores)\n",
    "    print((\"Mean score: {0:.3f} (+/-{1:.3f})\").format(np.mean(scores), sem(scores)))\n",
    "    \n",
    "evaluate_cross_val(clf, x_train_n, y_train_n, 5)"
   ]
  },
  {
   "cell_type": "markdown",
   "metadata": {},
   "source": [
    "## Decision Trees"
   ]
  },
  {
   "cell_type": "code",
   "execution_count": null,
   "metadata": {},
   "outputs": [],
   "source": [
    "tr = DecisionTreeClassifier(random_state=0, min_samples_split=250)\n",
    "tr.fit(x_train_n, y_train_n)\n",
    "\n",
    "# calculate prediction\n",
    "y_pred = tr.predict(x_test)\n",
    "print(\"Accuracy: \", tr.score(x_test, y_test))"
   ]
  },
  {
   "cell_type": "code",
   "execution_count": null,
   "metadata": {},
   "outputs": [],
   "source": [
    "# cross validation\n",
    "def evaluate_cross_val(clf, x, y, k):\n",
    "    kf = KFold(k, shuffle=True, random_state=0)\n",
    "    scores = cross_val_score(clf, x, y, cv=kf)\n",
    "    print(scores)\n",
    "    print((\"Mean score: {0:.3f} (+/-{1:.3f})\").format(np.mean(scores), sem(scores)))\n",
    "    \n",
    "evaluate_cross_val(tr, x_train_n, y_train_n, 5)"
   ]
  },
  {
   "cell_type": "markdown",
   "metadata": {},
   "source": [
    "## Random Forest"
   ]
  },
  {
   "cell_type": "code",
   "execution_count": null,
   "metadata": {},
   "outputs": [],
   "source": [
    "rf = RandomForestClassifier(n_estimators=100, max_depth=1, random_state=0)\n",
    "rf.fit(x_train_n, y_train_n)\n",
    "\n",
    "# calculate prediction\n",
    "y_pred = rf.predict(x_test)\n",
    "print(\"Accuracy: \", rf.score(x_test, y_test))"
   ]
  },
  {
   "cell_type": "code",
   "execution_count": null,
   "metadata": {},
   "outputs": [],
   "source": [
    "# cross validation\n",
    "def evaluate_cross_val(clf, x, y, k):\n",
    "    kf = KFold(k, shuffle=True, random_state=0)\n",
    "    scores = cross_val_score(clf, x, y, cv=kf)\n",
    "    print(scores)\n",
    "    print((\"Mean score: {0:.3f} (+/-{1:.3f})\").format(np.mean(scores), sem(scores)))\n",
    "    \n",
    "evaluate_cross_val(rf, x_train_n, y_train_n, 5)"
   ]
  },
  {
   "cell_type": "code",
   "execution_count": null,
   "metadata": {},
   "outputs": [],
   "source": []
  }
 ],
 "metadata": {
  "kernelspec": {
   "display_name": "Python 3",
   "language": "python",
   "name": "python3"
  },
  "language_info": {
   "codemirror_mode": {
    "name": "ipython",
    "version": 3
   },
   "file_extension": ".py",
   "mimetype": "text/x-python",
   "name": "python",
   "nbconvert_exporter": "python",
   "pygments_lexer": "ipython3",
   "version": "3.7.3"
  }
 },
 "nbformat": 4,
 "nbformat_minor": 2
}
