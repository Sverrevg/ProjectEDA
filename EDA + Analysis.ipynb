{
 "cells": [
  {
   "cell_type": "markdown",
   "metadata": {},
   "source": [
    "# Orders dataset\n",
    "\n",
    "## Loading the data"
   ]
  },
  {
   "cell_type": "code",
   "execution_count": 1,
   "metadata": {},
   "outputs": [],
   "source": [
    "import pandas as pd\n",
    "\n",
    "# Import data\n",
    "df1 = pd.read_csv(\"./orders/FirstMillionLines.csv\")\n",
    "df2 = pd.read_csv(\"./orders/SecondMillionLines.csv\")\n",
    "df3 = pd.read_csv(\"./orders/ThirdMillionLines.csv\")"
   ]
  },
  {
   "cell_type": "code",
   "execution_count": 2,
   "metadata": {
    "scrolled": true
   },
   "outputs": [
    {
     "name": "stdout",
     "output_type": "stream",
     "text": [
      "Shape: (1000000, 15)\n",
      "Shape: (1000000, 15)\n",
      "Shape: (604981, 15)\n"
     ]
    }
   ],
   "source": [
    "# Check for incosistent dimensions\n",
    "print(\"Shape:\", df1.shape)\n",
    "print(\"Shape:\", df2.shape)\n",
    "print(\"Shape:\", df3.shape)"
   ]
  },
  {
   "cell_type": "markdown",
   "metadata": {},
   "source": [
    "Amount of columns is consistent, amount of rows isn't. However, that's fine."
   ]
  },
  {
   "cell_type": "code",
   "execution_count": 3,
   "metadata": {},
   "outputs": [],
   "source": [
    "# Join dataframes\n",
    "orders = df1.merge(df2, how='outer')\n",
    "orders = orders.merge(df3, how='outer')"
   ]
  },
  {
   "cell_type": "code",
   "execution_count": 4,
   "metadata": {
    "scrolled": false
   },
   "outputs": [
    {
     "name": "stdout",
     "output_type": "stream",
     "text": [
      "<class 'pandas.core.frame.DataFrame'>\n",
      "Int64Index: 2604981 entries, 0 to 2604980\n",
      "Data columns (total 15 columns):\n",
      "Customer Number           int64\n",
      "DoB                       object\n",
      "Gender                    object\n",
      "PoR                       object\n",
      "Order number              int64\n",
      "Order date                object\n",
      "Product number            float64\n",
      "Sub category              object\n",
      "Category                  object\n",
      "Count                     int64\n",
      "Price                     float64\n",
      "Expected delivery time    int64\n",
      "Actual delivery time      int64\n",
      "Reason of return          object\n",
      "Rating                    int64\n",
      "dtypes: float64(2), int64(6), object(7)\n",
      "memory usage: 318.0+ MB\n",
      "Shape: None\n"
     ]
    },
    {
     "data": {
      "text/html": [
       "<div>\n",
       "<style scoped>\n",
       "    .dataframe tbody tr th:only-of-type {\n",
       "        vertical-align: middle;\n",
       "    }\n",
       "\n",
       "    .dataframe tbody tr th {\n",
       "        vertical-align: top;\n",
       "    }\n",
       "\n",
       "    .dataframe thead th {\n",
       "        text-align: right;\n",
       "    }\n",
       "</style>\n",
       "<table border=\"1\" class=\"dataframe\">\n",
       "  <thead>\n",
       "    <tr style=\"text-align: right;\">\n",
       "      <th></th>\n",
       "      <th>Customer Number</th>\n",
       "      <th>DoB</th>\n",
       "      <th>Gender</th>\n",
       "      <th>PoR</th>\n",
       "      <th>Order number</th>\n",
       "      <th>Order date</th>\n",
       "      <th>Product number</th>\n",
       "      <th>Sub category</th>\n",
       "      <th>Category</th>\n",
       "      <th>Count</th>\n",
       "      <th>Price</th>\n",
       "      <th>Expected delivery time</th>\n",
       "      <th>Actual delivery time</th>\n",
       "      <th>Reason of return</th>\n",
       "      <th>Rating</th>\n",
       "    </tr>\n",
       "  </thead>\n",
       "  <tbody>\n",
       "    <tr>\n",
       "      <th>0</th>\n",
       "      <td>1019099</td>\n",
       "      <td>15/09/1984</td>\n",
       "      <td>Man</td>\n",
       "      <td>Loppersum</td>\n",
       "      <td>1606586</td>\n",
       "      <td>7-12-2016</td>\n",
       "      <td>5.180000e+12</td>\n",
       "      <td>Garden sets</td>\n",
       "      <td>Garden furniture</td>\n",
       "      <td>1</td>\n",
       "      <td>1049.97</td>\n",
       "      <td>2</td>\n",
       "      <td>2</td>\n",
       "      <td>NaN</td>\n",
       "      <td>2</td>\n",
       "    </tr>\n",
       "    <tr>\n",
       "      <th>1</th>\n",
       "      <td>1049989</td>\n",
       "      <td>01/06/1969</td>\n",
       "      <td>Man</td>\n",
       "      <td>Goeree-Overflakkee</td>\n",
       "      <td>554370</td>\n",
       "      <td>15/01/2016</td>\n",
       "      <td>4.170000e+12</td>\n",
       "      <td>Garden tables</td>\n",
       "      <td>Garden furniture</td>\n",
       "      <td>1</td>\n",
       "      <td>366.90</td>\n",
       "      <td>8</td>\n",
       "      <td>8</td>\n",
       "      <td>NaN</td>\n",
       "      <td>-1</td>\n",
       "    </tr>\n",
       "    <tr>\n",
       "      <th>2</th>\n",
       "      <td>1068587</td>\n",
       "      <td>19/02/1970</td>\n",
       "      <td>Man</td>\n",
       "      <td>Terneuzen</td>\n",
       "      <td>1146785</td>\n",
       "      <td>16/05/2014</td>\n",
       "      <td>7.170000e+12</td>\n",
       "      <td>Garden statues</td>\n",
       "      <td>Garden decoration</td>\n",
       "      <td>1</td>\n",
       "      <td>493.95</td>\n",
       "      <td>2</td>\n",
       "      <td>2</td>\n",
       "      <td>NaN</td>\n",
       "      <td>-1</td>\n",
       "    </tr>\n",
       "    <tr>\n",
       "      <th>3</th>\n",
       "      <td>1026863</td>\n",
       "      <td>27/11/1972</td>\n",
       "      <td>Man</td>\n",
       "      <td>Sittard-Geleen</td>\n",
       "      <td>1146785</td>\n",
       "      <td>14/05/2014</td>\n",
       "      <td>4.110000e+12</td>\n",
       "      <td>Garden sets</td>\n",
       "      <td>Garden furniture</td>\n",
       "      <td>1</td>\n",
       "      <td>234.74</td>\n",
       "      <td>2</td>\n",
       "      <td>5</td>\n",
       "      <td>NaN</td>\n",
       "      <td>-1</td>\n",
       "    </tr>\n",
       "    <tr>\n",
       "      <th>4</th>\n",
       "      <td>1049989</td>\n",
       "      <td>01/06/1969</td>\n",
       "      <td>Man</td>\n",
       "      <td>Goeree-Overflakkee</td>\n",
       "      <td>554370</td>\n",
       "      <td>15/01/2016</td>\n",
       "      <td>3.160000e+12</td>\n",
       "      <td>Garden sets</td>\n",
       "      <td>Garden furniture</td>\n",
       "      <td>1</td>\n",
       "      <td>1436.62</td>\n",
       "      <td>3</td>\n",
       "      <td>8</td>\n",
       "      <td>NaN</td>\n",
       "      <td>-1</td>\n",
       "    </tr>\n",
       "  </tbody>\n",
       "</table>\n",
       "</div>"
      ],
      "text/plain": [
       "   Customer Number         DoB Gender                 PoR  Order number  \\\n",
       "0          1019099  15/09/1984    Man           Loppersum       1606586   \n",
       "1          1049989  01/06/1969    Man  Goeree-Overflakkee        554370   \n",
       "2          1068587  19/02/1970    Man           Terneuzen       1146785   \n",
       "3          1026863  27/11/1972    Man      Sittard-Geleen       1146785   \n",
       "4          1049989  01/06/1969    Man  Goeree-Overflakkee        554370   \n",
       "\n",
       "   Order date  Product number    Sub category           Category  Count  \\\n",
       "0   7-12-2016    5.180000e+12     Garden sets   Garden furniture      1   \n",
       "1  15/01/2016    4.170000e+12   Garden tables   Garden furniture      1   \n",
       "2  16/05/2014    7.170000e+12  Garden statues  Garden decoration      1   \n",
       "3  14/05/2014    4.110000e+12     Garden sets   Garden furniture      1   \n",
       "4  15/01/2016    3.160000e+12     Garden sets   Garden furniture      1   \n",
       "\n",
       "     Price  Expected delivery time  Actual delivery time Reason of return  \\\n",
       "0  1049.97                       2                     2              NaN   \n",
       "1   366.90                       8                     8              NaN   \n",
       "2   493.95                       2                     2              NaN   \n",
       "3   234.74                       2                     5              NaN   \n",
       "4  1436.62                       3                     8              NaN   \n",
       "\n",
       "   Rating  \n",
       "0       2  \n",
       "1      -1  \n",
       "2      -1  \n",
       "3      -1  \n",
       "4      -1  "
      ]
     },
     "execution_count": 4,
     "metadata": {},
     "output_type": "execute_result"
    }
   ],
   "source": [
    "# Show orders info\n",
    "print(\"Shape:\", orders.info())\n",
    "\n",
    "# Show orders head\n",
    "orders.head()"
   ]
  },
  {
   "cell_type": "markdown",
   "metadata": {},
   "source": [
    "## Cleaning the Data\n",
    "\n",
    "Checking for missing data"
   ]
  },
  {
   "cell_type": "code",
   "execution_count": 5,
   "metadata": {
    "scrolled": false
   },
   "outputs": [
    {
     "name": "stdout",
     "output_type": "stream",
     "text": [
      "Missing data: \n",
      "Customer Number                 0\n",
      "DoB                             0\n",
      "Gender                          0\n",
      "PoR                             0\n",
      "Order number                    0\n",
      "Order date                      0\n",
      "Product number                155\n",
      "Sub category                    0\n",
      "Category                        0\n",
      "Count                           0\n",
      "Price                           0\n",
      "Expected delivery time          0\n",
      "Actual delivery time            0\n",
      "Reason of return          2478588\n",
      "Rating                          0\n",
      "dtype: int64 \n",
      "\n"
     ]
    }
   ],
   "source": [
    "# Show missing data\n",
    "print(\"Missing data: \")\n",
    "print(orders.isnull().sum(), \"\\n\")"
   ]
  },
  {
   "cell_type": "markdown",
   "metadata": {},
   "source": [
    "Not a lot of data is missing, only 155 product numbers. Reason of return is so high because those weren't returns. "
   ]
  },
  {
   "cell_type": "markdown",
   "metadata": {},
   "source": [
    "Make smaller set for quick exploration"
   ]
  },
  {
   "cell_type": "code",
   "execution_count": 6,
   "metadata": {},
   "outputs": [
    {
     "data": {
      "text/plain": [
       "(100000, 15)"
      ]
     },
     "execution_count": 6,
     "metadata": {},
     "output_type": "execute_result"
    }
   ],
   "source": [
    "# Truncate data to explore faster\n",
    "orders_small = orders.truncate(before=200001, after=300000)\n",
    "orders_small.shape"
   ]
  },
  {
   "cell_type": "markdown",
   "metadata": {},
   "source": [
    "## Look at data types and change if necessary"
   ]
  },
  {
   "cell_type": "code",
   "execution_count": 7,
   "metadata": {
    "scrolled": true
   },
   "outputs": [
    {
     "name": "stdout",
     "output_type": "stream",
     "text": [
      "<class 'pandas.core.frame.DataFrame'>\n",
      "Int64Index: 100000 entries, 200001 to 300000\n",
      "Data columns (total 15 columns):\n",
      "Customer Number           100000 non-null int64\n",
      "DoB                       100000 non-null datetime64[ns]\n",
      "Gender                    100000 non-null object\n",
      "PoR                       100000 non-null object\n",
      "Order number              100000 non-null int64\n",
      "Order date                100000 non-null datetime64[ns]\n",
      "Product number            99994 non-null float64\n",
      "Sub category              100000 non-null object\n",
      "Category                  100000 non-null object\n",
      "Count                     100000 non-null int64\n",
      "Price                     100000 non-null float64\n",
      "Expected delivery time    100000 non-null int64\n",
      "Actual delivery time      100000 non-null int64\n",
      "Reason of return          4881 non-null object\n",
      "Rating                    100000 non-null int64\n",
      "dtypes: datetime64[ns](2), float64(2), int64(6), object(5)\n",
      "memory usage: 12.2+ MB\n"
     ]
    }
   ],
   "source": [
    "# Some column types should be changed to datetime\n",
    "orders_small['DoB'] = orders_small['DoB'].astype('datetime64[ns]')\n",
    "orders_small['Order date'] = orders_small['Order date'].astype('datetime64[ns]')\n",
    "orders_small.info()"
   ]
  },
  {
   "cell_type": "code",
   "execution_count": 8,
   "metadata": {},
   "outputs": [
    {
     "data": {
      "text/plain": [
       "Man      69444\n",
       "Woman    30536\n",
       "\\           20\n",
       "Name: Gender, dtype: int64"
      ]
     },
     "execution_count": 8,
     "metadata": {},
     "output_type": "execute_result"
    }
   ],
   "source": [
    "orders_small['Gender'].value_counts(dropna=False)"
   ]
  },
  {
   "cell_type": "code",
   "execution_count": 9,
   "metadata": {},
   "outputs": [
    {
     "data": {
      "text/plain": [
       "0     69444\n",
       "1     30536\n",
       "-1       20\n",
       "Name: Gender int, dtype: int64"
      ]
     },
     "execution_count": 9,
     "metadata": {},
     "output_type": "execute_result"
    }
   ],
   "source": [
    "# Gender should be an int: 0 for male 1 for female\n",
    "orders_small['Gender int'] = orders_small['Gender']\n",
    "orders_small['Gender int'] = orders_small['Gender int'].replace('Man', '0')\n",
    "orders_small['Gender int'] = orders_small['Gender int'].replace('Woman', '1')\n",
    "orders_small['Gender int'] = orders_small['Gender int'].replace('\\\\ ', '-1')\n",
    "orders_small['Gender int'].value_counts(dropna=False)"
   ]
  },
  {
   "cell_type": "code",
   "execution_count": 10,
   "metadata": {
    "scrolled": false
   },
   "outputs": [
    {
     "ename": "ValueError",
     "evalue": "invalid literal for int() with base 10: 'Man'",
     "output_type": "error",
     "traceback": [
      "\u001b[1;31m---------------------------------------------------------------------------\u001b[0m",
      "\u001b[1;31mValueError\u001b[0m                                Traceback (most recent call last)",
      "\u001b[1;32m<ipython-input-10-64df1a561432>\u001b[0m in \u001b[0;36m<module>\u001b[1;34m\u001b[0m\n\u001b[0;32m      1\u001b[0m \u001b[1;31m# Change gender column type\u001b[0m\u001b[1;33m\u001b[0m\u001b[1;33m\u001b[0m\u001b[1;33m\u001b[0m\u001b[0m\n\u001b[1;32m----> 2\u001b[1;33m \u001b[0morders_small\u001b[0m\u001b[1;33m[\u001b[0m\u001b[1;34m'Gender'\u001b[0m\u001b[1;33m]\u001b[0m \u001b[1;33m=\u001b[0m \u001b[0morders_small\u001b[0m\u001b[1;33m[\u001b[0m\u001b[1;34m'Gender'\u001b[0m\u001b[1;33m]\u001b[0m\u001b[1;33m.\u001b[0m\u001b[0mastype\u001b[0m\u001b[1;33m(\u001b[0m\u001b[1;34m'int64'\u001b[0m\u001b[1;33m)\u001b[0m\u001b[1;33m\u001b[0m\u001b[1;33m\u001b[0m\u001b[0m\n\u001b[0m\u001b[0;32m      3\u001b[0m \u001b[0morders_small\u001b[0m\u001b[1;33m.\u001b[0m\u001b[0minfo\u001b[0m\u001b[1;33m(\u001b[0m\u001b[1;33m)\u001b[0m\u001b[1;33m\u001b[0m\u001b[1;33m\u001b[0m\u001b[0m\n",
      "\u001b[1;32m~\\Anaconda3\\lib\\site-packages\\pandas\\core\\generic.py\u001b[0m in \u001b[0;36mastype\u001b[1;34m(self, dtype, copy, errors, **kwargs)\u001b[0m\n\u001b[0;32m   5689\u001b[0m             \u001b[1;31m# else, only a single dtype is given\u001b[0m\u001b[1;33m\u001b[0m\u001b[1;33m\u001b[0m\u001b[1;33m\u001b[0m\u001b[0m\n\u001b[0;32m   5690\u001b[0m             new_data = self._data.astype(dtype=dtype, copy=copy, errors=errors,\n\u001b[1;32m-> 5691\u001b[1;33m                                          **kwargs)\n\u001b[0m\u001b[0;32m   5692\u001b[0m             \u001b[1;32mreturn\u001b[0m \u001b[0mself\u001b[0m\u001b[1;33m.\u001b[0m\u001b[0m_constructor\u001b[0m\u001b[1;33m(\u001b[0m\u001b[0mnew_data\u001b[0m\u001b[1;33m)\u001b[0m\u001b[1;33m.\u001b[0m\u001b[0m__finalize__\u001b[0m\u001b[1;33m(\u001b[0m\u001b[0mself\u001b[0m\u001b[1;33m)\u001b[0m\u001b[1;33m\u001b[0m\u001b[1;33m\u001b[0m\u001b[0m\n\u001b[0;32m   5693\u001b[0m \u001b[1;33m\u001b[0m\u001b[0m\n",
      "\u001b[1;32m~\\Anaconda3\\lib\\site-packages\\pandas\\core\\internals\\managers.py\u001b[0m in \u001b[0;36mastype\u001b[1;34m(self, dtype, **kwargs)\u001b[0m\n\u001b[0;32m    529\u001b[0m \u001b[1;33m\u001b[0m\u001b[0m\n\u001b[0;32m    530\u001b[0m     \u001b[1;32mdef\u001b[0m \u001b[0mastype\u001b[0m\u001b[1;33m(\u001b[0m\u001b[0mself\u001b[0m\u001b[1;33m,\u001b[0m \u001b[0mdtype\u001b[0m\u001b[1;33m,\u001b[0m \u001b[1;33m**\u001b[0m\u001b[0mkwargs\u001b[0m\u001b[1;33m)\u001b[0m\u001b[1;33m:\u001b[0m\u001b[1;33m\u001b[0m\u001b[1;33m\u001b[0m\u001b[0m\n\u001b[1;32m--> 531\u001b[1;33m         \u001b[1;32mreturn\u001b[0m \u001b[0mself\u001b[0m\u001b[1;33m.\u001b[0m\u001b[0mapply\u001b[0m\u001b[1;33m(\u001b[0m\u001b[1;34m'astype'\u001b[0m\u001b[1;33m,\u001b[0m \u001b[0mdtype\u001b[0m\u001b[1;33m=\u001b[0m\u001b[0mdtype\u001b[0m\u001b[1;33m,\u001b[0m \u001b[1;33m**\u001b[0m\u001b[0mkwargs\u001b[0m\u001b[1;33m)\u001b[0m\u001b[1;33m\u001b[0m\u001b[1;33m\u001b[0m\u001b[0m\n\u001b[0m\u001b[0;32m    532\u001b[0m \u001b[1;33m\u001b[0m\u001b[0m\n\u001b[0;32m    533\u001b[0m     \u001b[1;32mdef\u001b[0m \u001b[0mconvert\u001b[0m\u001b[1;33m(\u001b[0m\u001b[0mself\u001b[0m\u001b[1;33m,\u001b[0m \u001b[1;33m**\u001b[0m\u001b[0mkwargs\u001b[0m\u001b[1;33m)\u001b[0m\u001b[1;33m:\u001b[0m\u001b[1;33m\u001b[0m\u001b[1;33m\u001b[0m\u001b[0m\n",
      "\u001b[1;32m~\\Anaconda3\\lib\\site-packages\\pandas\\core\\internals\\managers.py\u001b[0m in \u001b[0;36mapply\u001b[1;34m(self, f, axes, filter, do_integrity_check, consolidate, **kwargs)\u001b[0m\n\u001b[0;32m    393\u001b[0m                                             copy=align_copy)\n\u001b[0;32m    394\u001b[0m \u001b[1;33m\u001b[0m\u001b[0m\n\u001b[1;32m--> 395\u001b[1;33m             \u001b[0mapplied\u001b[0m \u001b[1;33m=\u001b[0m \u001b[0mgetattr\u001b[0m\u001b[1;33m(\u001b[0m\u001b[0mb\u001b[0m\u001b[1;33m,\u001b[0m \u001b[0mf\u001b[0m\u001b[1;33m)\u001b[0m\u001b[1;33m(\u001b[0m\u001b[1;33m**\u001b[0m\u001b[0mkwargs\u001b[0m\u001b[1;33m)\u001b[0m\u001b[1;33m\u001b[0m\u001b[1;33m\u001b[0m\u001b[0m\n\u001b[0m\u001b[0;32m    396\u001b[0m             \u001b[0mresult_blocks\u001b[0m \u001b[1;33m=\u001b[0m \u001b[0m_extend_blocks\u001b[0m\u001b[1;33m(\u001b[0m\u001b[0mapplied\u001b[0m\u001b[1;33m,\u001b[0m \u001b[0mresult_blocks\u001b[0m\u001b[1;33m)\u001b[0m\u001b[1;33m\u001b[0m\u001b[1;33m\u001b[0m\u001b[0m\n\u001b[0;32m    397\u001b[0m \u001b[1;33m\u001b[0m\u001b[0m\n",
      "\u001b[1;32m~\\Anaconda3\\lib\\site-packages\\pandas\\core\\internals\\blocks.py\u001b[0m in \u001b[0;36mastype\u001b[1;34m(self, dtype, copy, errors, values, **kwargs)\u001b[0m\n\u001b[0;32m    532\u001b[0m     \u001b[1;32mdef\u001b[0m \u001b[0mastype\u001b[0m\u001b[1;33m(\u001b[0m\u001b[0mself\u001b[0m\u001b[1;33m,\u001b[0m \u001b[0mdtype\u001b[0m\u001b[1;33m,\u001b[0m \u001b[0mcopy\u001b[0m\u001b[1;33m=\u001b[0m\u001b[1;32mFalse\u001b[0m\u001b[1;33m,\u001b[0m \u001b[0merrors\u001b[0m\u001b[1;33m=\u001b[0m\u001b[1;34m'raise'\u001b[0m\u001b[1;33m,\u001b[0m \u001b[0mvalues\u001b[0m\u001b[1;33m=\u001b[0m\u001b[1;32mNone\u001b[0m\u001b[1;33m,\u001b[0m \u001b[1;33m**\u001b[0m\u001b[0mkwargs\u001b[0m\u001b[1;33m)\u001b[0m\u001b[1;33m:\u001b[0m\u001b[1;33m\u001b[0m\u001b[1;33m\u001b[0m\u001b[0m\n\u001b[0;32m    533\u001b[0m         return self._astype(dtype, copy=copy, errors=errors, values=values,\n\u001b[1;32m--> 534\u001b[1;33m                             **kwargs)\n\u001b[0m\u001b[0;32m    535\u001b[0m \u001b[1;33m\u001b[0m\u001b[0m\n\u001b[0;32m    536\u001b[0m     def _astype(self, dtype, copy=False, errors='raise', values=None,\n",
      "\u001b[1;32m~\\Anaconda3\\lib\\site-packages\\pandas\\core\\internals\\blocks.py\u001b[0m in \u001b[0;36m_astype\u001b[1;34m(self, dtype, copy, errors, values, **kwargs)\u001b[0m\n\u001b[0;32m    631\u001b[0m \u001b[1;33m\u001b[0m\u001b[0m\n\u001b[0;32m    632\u001b[0m                     \u001b[1;31m# _astype_nansafe works fine with 1-d only\u001b[0m\u001b[1;33m\u001b[0m\u001b[1;33m\u001b[0m\u001b[1;33m\u001b[0m\u001b[0m\n\u001b[1;32m--> 633\u001b[1;33m                     \u001b[0mvalues\u001b[0m \u001b[1;33m=\u001b[0m \u001b[0mastype_nansafe\u001b[0m\u001b[1;33m(\u001b[0m\u001b[0mvalues\u001b[0m\u001b[1;33m.\u001b[0m\u001b[0mravel\u001b[0m\u001b[1;33m(\u001b[0m\u001b[1;33m)\u001b[0m\u001b[1;33m,\u001b[0m \u001b[0mdtype\u001b[0m\u001b[1;33m,\u001b[0m \u001b[0mcopy\u001b[0m\u001b[1;33m=\u001b[0m\u001b[1;32mTrue\u001b[0m\u001b[1;33m)\u001b[0m\u001b[1;33m\u001b[0m\u001b[1;33m\u001b[0m\u001b[0m\n\u001b[0m\u001b[0;32m    634\u001b[0m \u001b[1;33m\u001b[0m\u001b[0m\n\u001b[0;32m    635\u001b[0m                 \u001b[1;31m# TODO(extension)\u001b[0m\u001b[1;33m\u001b[0m\u001b[1;33m\u001b[0m\u001b[1;33m\u001b[0m\u001b[0m\n",
      "\u001b[1;32m~\\Anaconda3\\lib\\site-packages\\pandas\\core\\dtypes\\cast.py\u001b[0m in \u001b[0;36mastype_nansafe\u001b[1;34m(arr, dtype, copy, skipna)\u001b[0m\n\u001b[0;32m    681\u001b[0m         \u001b[1;31m# work around NumPy brokenness, #1987\u001b[0m\u001b[1;33m\u001b[0m\u001b[1;33m\u001b[0m\u001b[1;33m\u001b[0m\u001b[0m\n\u001b[0;32m    682\u001b[0m         \u001b[1;32mif\u001b[0m \u001b[0mnp\u001b[0m\u001b[1;33m.\u001b[0m\u001b[0missubdtype\u001b[0m\u001b[1;33m(\u001b[0m\u001b[0mdtype\u001b[0m\u001b[1;33m.\u001b[0m\u001b[0mtype\u001b[0m\u001b[1;33m,\u001b[0m \u001b[0mnp\u001b[0m\u001b[1;33m.\u001b[0m\u001b[0minteger\u001b[0m\u001b[1;33m)\u001b[0m\u001b[1;33m:\u001b[0m\u001b[1;33m\u001b[0m\u001b[1;33m\u001b[0m\u001b[0m\n\u001b[1;32m--> 683\u001b[1;33m             \u001b[1;32mreturn\u001b[0m \u001b[0mlib\u001b[0m\u001b[1;33m.\u001b[0m\u001b[0mastype_intsafe\u001b[0m\u001b[1;33m(\u001b[0m\u001b[0marr\u001b[0m\u001b[1;33m.\u001b[0m\u001b[0mravel\u001b[0m\u001b[1;33m(\u001b[0m\u001b[1;33m)\u001b[0m\u001b[1;33m,\u001b[0m \u001b[0mdtype\u001b[0m\u001b[1;33m)\u001b[0m\u001b[1;33m.\u001b[0m\u001b[0mreshape\u001b[0m\u001b[1;33m(\u001b[0m\u001b[0marr\u001b[0m\u001b[1;33m.\u001b[0m\u001b[0mshape\u001b[0m\u001b[1;33m)\u001b[0m\u001b[1;33m\u001b[0m\u001b[1;33m\u001b[0m\u001b[0m\n\u001b[0m\u001b[0;32m    684\u001b[0m \u001b[1;33m\u001b[0m\u001b[0m\n\u001b[0;32m    685\u001b[0m         \u001b[1;31m# if we have a datetime/timedelta array of objects\u001b[0m\u001b[1;33m\u001b[0m\u001b[1;33m\u001b[0m\u001b[1;33m\u001b[0m\u001b[0m\n",
      "\u001b[1;32mpandas/_libs/lib.pyx\u001b[0m in \u001b[0;36mpandas._libs.lib.astype_intsafe\u001b[1;34m()\u001b[0m\n",
      "\u001b[1;31mValueError\u001b[0m: invalid literal for int() with base 10: 'Man'"
     ]
    }
   ],
   "source": [
    "# Change gender column type\n",
    "orders_small['Gender'] = orders_small['Gender'].astype('int64')\n",
    "orders_small.info()"
   ]
  },
  {
   "cell_type": "markdown",
   "metadata": {},
   "source": [
    "## Map category to numbers"
   ]
  },
  {
   "cell_type": "code",
   "execution_count": null,
   "metadata": {
    "scrolled": false
   },
   "outputs": [],
   "source": [
    "# get all categories\n",
    "cat = orders_small['Category'].unique()\n",
    "# create new column cat. numbers\n",
    "orders_small['Cat. number'] = orders_small['Category']"
   ]
  },
  {
   "cell_type": "code",
   "execution_count": null,
   "metadata": {},
   "outputs": [],
   "source": [
    "# replace all values with numbers\n",
    "i = 0\n",
    "\n",
    "for c in cat:\n",
    "    orders_small['Cat. number'] = orders_small['Cat. number'].replace(c, str(i))\n",
    "    i = i + 1\n",
    "    # print(c + \" is equal to \" + str(i))"
   ]
  },
  {
   "cell_type": "markdown",
   "metadata": {},
   "source": [
    "### Do the same for sub category"
   ]
  },
  {
   "cell_type": "code",
   "execution_count": null,
   "metadata": {
    "scrolled": true
   },
   "outputs": [],
   "source": [
    "subC = orders_small['Sub category'].unique()\n",
    "orders_small['Sub cat. number'] = orders_small['Sub category']"
   ]
  },
  {
   "cell_type": "code",
   "execution_count": null,
   "metadata": {},
   "outputs": [],
   "source": [
    "i = 0\n",
    "\n",
    "for c in subC:\n",
    "    orders_small['Sub cat. number'] = orders_small['Sub cat. number'].replace(c, str(i))\n",
    "    i = i + 1\n",
    "    # print(c + \" is equal to \" + str(i))"
   ]
  },
  {
   "cell_type": "markdown",
   "metadata": {},
   "source": [
    "### Do the same again for place of residence"
   ]
  },
  {
   "cell_type": "code",
   "execution_count": null,
   "metadata": {
    "scrolled": true
   },
   "outputs": [],
   "source": [
    "por = orders_small['PoR'].unique()\n",
    "orders_small['PoR number'] = orders_small['PoR']"
   ]
  },
  {
   "cell_type": "code",
   "execution_count": null,
   "metadata": {},
   "outputs": [],
   "source": [
    "i = 0\n",
    "\n",
    "for c in por:\n",
    "    orders_small['PoR number'] = orders_small['PoR number'].replace(c, str(i))\n",
    "    i = i + 1\n",
    "    # print(c + \" is equal to \" + str(i))"
   ]
  },
  {
   "cell_type": "markdown",
   "metadata": {},
   "source": [
    "### And month of the year"
   ]
  },
  {
   "cell_type": "code",
   "execution_count": null,
   "metadata": {},
   "outputs": [],
   "source": [
    "orders_small['Month'] = pd.DatetimeIndex(orders_small['Order date']).month"
   ]
  },
  {
   "cell_type": "markdown",
   "metadata": {},
   "source": [
    "## And birthyear..."
   ]
  },
  {
   "cell_type": "code",
   "execution_count": null,
   "metadata": {},
   "outputs": [],
   "source": [
    "orders_small['Birthyear'] = pd.DatetimeIndex(orders_small['DoB']).year"
   ]
  },
  {
   "cell_type": "code",
   "execution_count": null,
   "metadata": {
    "scrolled": false
   },
   "outputs": [],
   "source": [
    "# convert to int64 to show on heatmap\n",
    "orders_small['Cat. number'] = orders_small['Cat. number'].astype('int64')\n",
    "orders_small['Sub cat. number'] = orders_small['Sub cat. number'].astype('int64')\n",
    "orders_small['PoR number'] = orders_small['PoR number'].astype('int64')\n",
    "orders_small['Month'] = orders_small['Month'].astype('int64')\n",
    "orders_small['Birthyear'] = orders_small['Birthyear'].astype('int64')\n",
    "orders_small.info()"
   ]
  },
  {
   "cell_type": "code",
   "execution_count": null,
   "metadata": {
    "scrolled": true
   },
   "outputs": [],
   "source": [
    "# check if it worked\n",
    "orders_small.head()"
   ]
  },
  {
   "cell_type": "markdown",
   "metadata": {},
   "source": [
    "Now that all columns are usable types and the data is cleaned, we can start exploring\n",
    "\n",
    "## Exploratory Data Analysis"
   ]
  },
  {
   "cell_type": "code",
   "execution_count": null,
   "metadata": {
    "scrolled": false
   },
   "outputs": [],
   "source": [
    "import matplotlib.pyplot as plt\n",
    "\n",
    "fig, ax = plt.subplots()\n",
    "\n",
    "x = orders_small['Expected delivery time']\n",
    "y = orders_small['Actual delivery time']\n",
    "\n",
    "color = orders_small['Rating']\n",
    "scale = orders_small['Rating'] * 50;\n",
    "ax.scatter(x, y, c=color, s=scale, alpha=0.3, edgecolors='none')\n",
    "# ax.scatter(x2, y2, c='pink', s=scale, alpha=0.7, edgecolors='none')\n",
    "ax.grid(True)\n",
    "fig.set_size_inches(10, 6)\n",
    "\n",
    "# Set labels\n",
    "plt.title('Ratings and Delivery Time')\n",
    "ax.set_xlabel(r'Expected delivery time', fontsize=12)\n",
    "ax.set_ylabel(r'Actual delivery time', fontsize=12)\n",
    "\n",
    "plt.show()"
   ]
  },
  {
   "cell_type": "markdown",
   "metadata": {},
   "source": [
    "As can be seen by the straight line going from (0,0) to about (48,48), most orders arrive at around the expected delivery time. There seems to be no correlation between late orders and ratings."
   ]
  },
  {
   "cell_type": "code",
   "execution_count": null,
   "metadata": {
    "scrolled": false
   },
   "outputs": [],
   "source": [
    "# Use seaborn to show plots\n",
    "import seaborn as sns; sns.set()"
   ]
  },
  {
   "cell_type": "code",
   "execution_count": null,
   "metadata": {},
   "outputs": [],
   "source": [
    "# selected_feature_names=['Gender', 'Product number', 'Count', 'Price', 'Expected delivery time', 'Actual delivery time', 'Rating']\n",
    "# sns.pairplot(orders_small, vars=selected_feature_names, height=5)"
   ]
  },
  {
   "cell_type": "code",
   "execution_count": null,
   "metadata": {
    "scrolled": false
   },
   "outputs": [],
   "source": [
    "# # Zoom in\n",
    "# sns.pairplot(orders_small, x_vars=['Rating', 'Actual delivery time'], y_vars=['Product number'], height=7)"
   ]
  },
  {
   "cell_type": "markdown",
   "metadata": {},
   "source": [
    "## Predict what products new customers may buy based on their age, gender and possibly place or residence."
   ]
  },
  {
   "cell_type": "code",
   "execution_count": null,
   "metadata": {
    "scrolled": false
   },
   "outputs": [],
   "source": [
    "# selected_feature_names=['Gender', 'Product number', 'Birthyear']\n",
    "# sns.pairplot(orders_small, vars=selected_feature_names, height=5)"
   ]
  },
  {
   "cell_type": "markdown",
   "metadata": {},
   "source": [
    "Focus on age and product number "
   ]
  },
  {
   "cell_type": "code",
   "execution_count": null,
   "metadata": {
    "scrolled": false
   },
   "outputs": [],
   "source": [
    "fig, ax = plt.subplots()\n",
    "\n",
    "x = orders_small['Birthyear']\n",
    "y = orders_small['Product number']\n",
    "\n",
    "# color = orders_small['Age']\n",
    "\n",
    "color = 'blue'\n",
    "scale = 50\n",
    "ax.scatter(x, y, c=color, s=scale, alpha=0.3, edgecolors='none')\n",
    "# ax.scatter(x2, y2, c='pink', s=scale, alpha=0.7, edgecolors='none')\n",
    "ax.grid(True)\n",
    "fig.set_size_inches(10, 10)\n",
    "# ax.set_ylim([5.000000e+12,5.300000e+12])\n",
    "\n",
    "# Set labels\n",
    "# plt.title('Ratings and Delivery Time')\n",
    "ax.set_xlabel(r'Birthyear', fontsize=12)\n",
    "ax.set_ylabel(r'Product nummber', fontsize=12)\n",
    "\n",
    "plt.show()"
   ]
  },
  {
   "cell_type": "code",
   "execution_count": null,
   "metadata": {},
   "outputs": [],
   "source": [
    "orders_small['Birthyear'][orders_small['Category'] == 'Garden furniture'].count()"
   ]
  },
  {
   "cell_type": "code",
   "execution_count": null,
   "metadata": {},
   "outputs": [],
   "source": [
    "fig, ax = plt.subplots()\n",
    "\n",
    "x = orders_small['Birthyear'][orders_small['Gender'] == 0]\n",
    "y = orders_small['Category'][orders_small['Gender'] == 0]\n",
    "\n",
    "x2 = orders_small['Birthyear'][orders_small['Gender'] == 1]\n",
    "y2 = orders_small['Category'][orders_small['Gender'] == 1]\n",
    "\n",
    "scale = 20\n",
    "\n",
    "ax.scatter(x, y, c='blue', s=scale, alpha=0.5, edgecolors='none')\n",
    "ax.scatter(x2, y2, c='pink', s=scale, alpha=0.3, edgecolors='none')\n",
    "ax.grid(True)\n",
    "fig.set_size_inches(10, 10)\n",
    "\n",
    "#set labels\n",
    "plt.title('Birthyear and gender v product number')\n",
    "ax.set_xlabel(r'Birthyear', fontsize=12)\n",
    "ax.set_ylabel(r'Product nummber', fontsize=12)\n",
    "\n",
    "plt.show()"
   ]
  },
  {
   "cell_type": "code",
   "execution_count": null,
   "metadata": {
    "scrolled": false
   },
   "outputs": [],
   "source": [
    "fig, ax = plt.subplots()\n",
    "\n",
    "x = orders_small['Birthyear'][orders_small['Gender'] == 0]\n",
    "y = orders_small['Category'][orders_small['Gender'] == 0]\n",
    "\n",
    "x2 = orders_small['Birthyear'][orders_small['Gender'] == 1]\n",
    "y2 = orders_small['Category'][orders_small['Gender'] == 1]\n",
    "\n",
    "scale = 20\n",
    "\n",
    "ax.scatter(x, y, c='blue', s=scale, alpha=0.5, edgecolors='none')\n",
    "ax.scatter(x2, y2, c='pink', s=scale, alpha=0.3, edgecolors='none')\n",
    "ax.grid(True)\n",
    "fig.set_size_inches(10, 10)\n",
    "# ax.set_xlim(40,60)\n",
    "\n",
    "#set labels\n",
    "plt.title('Birthyear and gender v product number')\n",
    "ax.set_xlabel(r'Birthyear', fontsize=12)\n",
    "ax.set_ylabel(r'Category', fontsize=12)\n",
    "\n",
    "plt.show()"
   ]
  },
  {
   "cell_type": "code",
   "execution_count": null,
   "metadata": {
    "scrolled": false
   },
   "outputs": [],
   "source": [
    "fig, ax = plt.subplots()\n",
    "\n",
    "x = orders_small['Birthyear'][orders_small['Gender'] == 0]\n",
    "y = orders_small['Sub category'][orders_small['Gender'] == 0]\n",
    "\n",
    "x2 = orders_small['Birthyear'][orders_small['Gender'] == 1]\n",
    "y2 = orders_small['Sub category'][orders_small['Gender'] == 1]\n",
    "\n",
    "scale = 20\n",
    "\n",
    "ax.scatter(x, y, c='blue', s=scale, alpha=0.5, edgecolors='none')\n",
    "ax.scatter(x2, y2, c='pink', s=scale, alpha=0.3, edgecolors='none')\n",
    "ax.grid(True)\n",
    "fig.set_size_inches(10, 10)\n",
    "# ax.set_xlim(40,60)\n",
    "\n",
    "#set labels\n",
    "plt.title('Birthyear and gender v product number')\n",
    "ax.set_xlabel(r'Birthyear', fontsize=12)\n",
    "ax.set_ylabel(r'Sub category', fontsize=12)\n",
    "\n",
    "plt.show()"
   ]
  },
  {
   "cell_type": "markdown",
   "metadata": {},
   "source": [
    "## Heatmap"
   ]
  },
  {
   "cell_type": "code",
   "execution_count": null,
   "metadata": {
    "scrolled": false
   },
   "outputs": [],
   "source": [
    "plt.figure(figsize=(20,20))\n",
    "cor = orders_small.corr()\n",
    "sns.heatmap(cor, annot=True, cmap=plt.cm.Reds)"
   ]
  },
  {
   "cell_type": "markdown",
   "metadata": {},
   "source": [
    "# Predictive analysis\n",
    "\n",
    "## Preparation"
   ]
  },
  {
   "cell_type": "code",
   "execution_count": null,
   "metadata": {},
   "outputs": [],
   "source": [
    "from sklearn.model_selection import train_test_split\n",
    "from sklearn.preprocessing import StandardScaler\n",
    "from sklearn import preprocessing\n",
    "import numpy as np\n",
    "from scipy.stats import sem\n",
    "\n",
    "#use all available data\n",
    "orders_x2 = orders_small[['Birthyear', 'Gender']]\n",
    "orders_x = orders_small[['Birthyear', 'Gender', 'Month']]\n",
    "orders_y2 = orders_small['Sub cat. number']\n",
    "orders_y = orders_small['Cat. number']\n",
    "orders_y3 = orders_small['Count']"
   ]
  },
  {
   "cell_type": "code",
   "execution_count": null,
   "metadata": {},
   "outputs": [],
   "source": [
    "# split data\n",
    "x_train, x_test, y_train, y_test = train_test_split(orders_x, orders_y, test_size=0.2)"
   ]
  },
  {
   "cell_type": "code",
   "execution_count": null,
   "metadata": {
    "scrolled": true
   },
   "outputs": [],
   "source": [
    "# create normalised set\n",
    "x_train_n = np.array(x_train)\n",
    "y_train_n = np.array(y_train)\n",
    "preprocessing.normalize(x_train_n)\n",
    "preprocessing.normalize(y_train_n.reshape(-1,1))"
   ]
  },
  {
   "cell_type": "code",
   "execution_count": null,
   "metadata": {},
   "outputs": [],
   "source": [
    "# imports\n",
    "from sklearn.metrics import confusion_matrix\n",
    "from sklearn.metrics import classification_report\n",
    "from sklearn.model_selection import cross_val_score, KFold\n",
    "from sklearn.svm import LinearSVC\n",
    "from sklearn import neighbors as n\n",
    "from sklearn.tree import DecisionTreeClassifier\n",
    "from sklearn.ensemble import RandomForestClassifier\n",
    "from sklearn import linear_model"
   ]
  },
  {
   "cell_type": "markdown",
   "metadata": {},
   "source": [
    "## LinearSVC"
   ]
  },
  {
   "cell_type": "code",
   "execution_count": null,
   "metadata": {},
   "outputs": [],
   "source": [
    "svc = LinearSVC(class_weight='balanced', max_iter=2000, random_state=0)\n",
    "\n",
    "# fit training data\n",
    "svc.fit(x_train_n, y_train_n)\n",
    "\n",
    "# calculate prediction\n",
    "y_pred = svc.predict(x_test)\n",
    "print(\"Accuracy: \", svc.score(x_test, y_test))"
   ]
  },
  {
   "cell_type": "code",
   "execution_count": null,
   "metadata": {},
   "outputs": [],
   "source": [
    "# cross validation\n",
    "\n",
    "def evaluate_cross_val(clf, x, y, k):\n",
    "    kf = KFold(k, shuffle=True, random_state=0)\n",
    "    scores = cross_val_score(clf, x, y, cv=kf)\n",
    "    print(scores)\n",
    "    print((\"Mean score: {0:.3f} (+/-{1:.3f})\").format(np.mean(scores), sem(scores)))\n",
    "    \n",
    "evaluate_cross_val(svc, x_train_n, y_train_n, 5)"
   ]
  },
  {
   "cell_type": "markdown",
   "metadata": {},
   "source": [
    "## Nearest Neighbors"
   ]
  },
  {
   "cell_type": "code",
   "execution_count": null,
   "metadata": {},
   "outputs": [],
   "source": [
    "n_neighbors = 200 # value of 200 produces best results\n",
    "clf = n.KNeighborsClassifier(n_neighbors, weights='uniform')\n",
    "clf.fit(x_train_n, y_train_n)\n",
    "\n",
    "# calculate prediction\n",
    "y_pred = clf.predict(x_test)\n",
    "print(\"Accuracy: \", clf.score(x_test, y_test))"
   ]
  },
  {
   "cell_type": "code",
   "execution_count": null,
   "metadata": {},
   "outputs": [],
   "source": [
    "# cross validation\n",
    "def evaluate_cross_val(clf, x, y, k):\n",
    "    kf = KFold(k, shuffle=True, random_state=0)\n",
    "    scores = cross_val_score(clf, x, y, cv=kf)\n",
    "    print(scores)\n",
    "    print((\"Mean score: {0:.3f} (+/-{1:.3f})\").format(np.mean(scores), sem(scores)))\n",
    "    \n",
    "evaluate_cross_val(clf, x_train_n, y_train_n, 5)"
   ]
  },
  {
   "cell_type": "markdown",
   "metadata": {},
   "source": [
    "## Decision Trees"
   ]
  },
  {
   "cell_type": "code",
   "execution_count": null,
   "metadata": {},
   "outputs": [],
   "source": [
    "tr = DecisionTreeClassifier(random_state=0, min_samples_split=250)\n",
    "tr.fit(x_train_n, y_train_n)\n",
    "\n",
    "# calculate prediction\n",
    "y_pred = tr.predict(x_test)\n",
    "print(\"Accuracy: \", tr.score(x_test, y_test))"
   ]
  },
  {
   "cell_type": "code",
   "execution_count": null,
   "metadata": {},
   "outputs": [],
   "source": [
    "# cross validation\n",
    "def evaluate_cross_val(clf, x, y, k):\n",
    "    kf = KFold(k, shuffle=True, random_state=0)\n",
    "    scores = cross_val_score(clf, x, y, cv=kf)\n",
    "    print(scores)\n",
    "    print((\"Mean score: {0:.3f} (+/-{1:.3f})\").format(np.mean(scores), sem(scores)))\n",
    "    \n",
    "evaluate_cross_val(tr, x_train_n, y_train_n, 5)"
   ]
  },
  {
   "cell_type": "markdown",
   "metadata": {},
   "source": [
    "## Random Forest"
   ]
  },
  {
   "cell_type": "code",
   "execution_count": null,
   "metadata": {},
   "outputs": [],
   "source": [
    "rf = RandomForestClassifier(n_estimators=100, max_depth=1, random_state=0)\n",
    "rf.fit(x_train_n, y_train_n)\n",
    "\n",
    "# calculate prediction\n",
    "y_pred = rf.predict(x_test)\n",
    "print(\"Accuracy: \", rf.score(x_test, y_test))"
   ]
  },
  {
   "cell_type": "code",
   "execution_count": null,
   "metadata": {},
   "outputs": [],
   "source": [
    "# cross validation\n",
    "def evaluate_cross_val(clf, x, y, k):\n",
    "    kf = KFold(k, shuffle=True, random_state=0)\n",
    "    scores = cross_val_score(clf, x, y, cv=kf)\n",
    "    print(scores)\n",
    "    print((\"Mean score: {0:.3f} (+/-{1:.3f})\").format(np.mean(scores), sem(scores)))\n",
    "    \n",
    "evaluate_cross_val(rf, x_train_n, y_train_n, 5)"
   ]
  },
  {
   "cell_type": "code",
   "execution_count": null,
   "metadata": {},
   "outputs": [],
   "source": []
  }
 ],
 "metadata": {
  "kernelspec": {
   "display_name": "Python 3",
   "language": "python",
   "name": "python3"
  },
  "language_info": {
   "codemirror_mode": {
    "name": "ipython",
    "version": 3
   },
   "file_extension": ".py",
   "mimetype": "text/x-python",
   "name": "python",
   "nbconvert_exporter": "python",
   "pygments_lexer": "ipython3",
   "version": "3.7.3"
  }
 },
 "nbformat": 4,
 "nbformat_minor": 2
}
